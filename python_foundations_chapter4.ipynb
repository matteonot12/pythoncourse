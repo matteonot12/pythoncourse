{
 "cells": [
  {
   "cell_type": "markdown",
   "id": "91221939",
   "metadata": {},
   "source": [
    "# Chapter 4: Python Libraries for Data Manipulation"
   ]
  },
  {
   "cell_type": "markdown",
   "id": "54cb97ab",
   "metadata": {},
   "source": [
    "## 1. Introduction to NumPy"
   ]
  },
  {
   "cell_type": "markdown",
   "id": "0d6be07c",
   "metadata": {},
   "source": [
    "NumPy is a fundamental package for scientific computing in Python. It provides support for arrays (including matrices), and an assortment of mathematical functions to operate on these arrays."
   ]
  },
  {
   "cell_type": "markdown",
   "id": "42129f74",
   "metadata": {},
   "source": [
    "### Example: Creating Arrays"
   ]
  },
  {
   "cell_type": "code",
   "execution_count": null,
   "id": "1681577e",
   "metadata": {},
   "outputs": [],
   "source": [
    "import numpy as np\n",
    "\n",
    "# Creating an array\n",
    "arr = np.array([1, 2, 3, 4, 5])\n",
    "arr"
   ]
  },
  {
   "cell_type": "markdown",
   "id": "bfb9a677",
   "metadata": {},
   "source": [
    "### Exercise: Create a 2x3 Matrix"
   ]
  },
  {
   "cell_type": "markdown",
   "id": "596f4830",
   "metadata": {},
   "source": [
    "Create a 2x3 matrix using NumPy and fill it with values from 1 to 6."
   ]
  },
  {
   "cell_type": "markdown",
   "id": "c57028e9",
   "metadata": {},
   "source": [
    "## 2. Data Manipulation with Pandas"
   ]
  },
  {
   "cell_type": "markdown",
   "id": "95e35bfe",
   "metadata": {},
   "source": [
    "Pandas provides data structures for efficiently storing large amounts of data, and tools for wrangling and analyzing that data."
   ]
  },
  {
   "cell_type": "markdown",
   "id": "3c268bcc",
   "metadata": {},
   "source": [
    "### Example: Creating a DataFrame"
   ]
  },
  {
   "cell_type": "code",
   "execution_count": null,
   "id": "7c4bf1d7",
   "metadata": {},
   "outputs": [],
   "source": [
    "import pandas as pd\n",
    "\n",
    "# Creating a DataFrame\n",
    "df = pd.DataFrame({\n",
    "    'Name': ['Alice', 'Bob'],\n",
    "    'Age': [25, 30]\n",
    "})\n",
    "df"
   ]
  },
  {
   "cell_type": "markdown",
   "id": "cb9476c0",
   "metadata": {},
   "source": [
    "### Exercise: Add a Column to the DataFrame"
   ]
  },
  {
   "cell_type": "markdown",
   "id": "fa9850b9",
   "metadata": {},
   "source": [
    "Add a new column 'Salary' to the DataFrame and fill it with values 50000 and 60000 for Alice and Bob, respectively."
   ]
  },
  {
   "cell_type": "markdown",
   "id": "433e3476",
   "metadata": {},
   "source": [
    "## 3. Data Visualization with Matplotlib and Seaborn"
   ]
  },
  {
   "cell_type": "markdown",
   "id": "f0957d3a",
   "metadata": {},
   "source": [
    "Matplotlib and Seaborn are libraries for creating static, interactive, and animated visualizations in Python."
   ]
  },
  {
   "cell_type": "markdown",
   "id": "f7c2be03",
   "metadata": {},
   "source": [
    "### Example: Creating a Simple Plot with Matplotlib"
   ]
  },
  {
   "cell_type": "code",
   "execution_count": null,
   "id": "1c495dcc",
   "metadata": {},
   "outputs": [],
   "source": [
    "import matplotlib.pyplot as plt\n",
    "\n",
    "plt.plot([1, 2, 3, 4], [1, 4, 9, 16])\n",
    "plt.xlabel('X-axis')\n",
    "plt.ylabel('Y-axis')\n",
    "plt.title('Simple Plot')\n",
    "plt.show()"
   ]
  },
  {
   "cell_type": "markdown",
   "id": "df427f82",
   "metadata": {},
   "source": [
    "### Exercise: Create a Scatter Plot with Seaborn"
   ]
  },
  {
   "cell_type": "markdown",
   "id": "b14a0df1",
   "metadata": {},
   "source": [
    "Using Seaborn, create a scatter plot with the `iris` dataset, plotting `sepal_length` against `sepal_width` and differentiating species with colors."
   ]
  }
 ],
 "metadata": {},
 "nbformat": 4,
 "nbformat_minor": 5
}
