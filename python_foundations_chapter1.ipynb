{
  "cells": [
    {
      "cell_type": "markdown",
      "id": "bda646f2",
      "metadata": {
        "id": "bda646f2"
      },
      "source": [
        "# Chapter 1: Introduction to Python and its Ecosystem"
      ]
    },
    {
      "cell_type": "markdown",
      "id": "cef42dd4",
      "metadata": {
        "id": "cef42dd4"
      },
      "source": [
        "## 1. Why Python? Its significance in the tech industry"
      ]
    },
    {
      "cell_type": "markdown",
      "id": "bad8afc8",
      "metadata": {
        "id": "bad8afc8"
      },
      "source": [
        "\n",
        "Python is one of the most popular programming languages today. It's known for its simplicity, readability, and versatility.\n",
        "\n",
        "### Benefits of Python:\n",
        "* **Readability**: Python's syntax is clear, which makes it easier for beginners to pick up.\n",
        "* **Versatility**: Python can be used for web development, data analysis, artificial intelligence, scientific computing, etc.\n",
        "* **Community**: A large and active community means more libraries, frameworks, and help available.\n",
        "\n",
        "### Examples of Python's significance:\n",
        "1. **Web Development**: Websites like Instagram and Pinterest are built using Python's Django framework.\n",
        "2. **Data Analysis and Machine Learning**: Libraries like Pandas and Scikit-learn are Python-based.\n",
        "3. **Scripting and Automation**: Python is widely used for writing scripts to automate repetitive tasks.\n"
      ]
    },
    {
      "cell_type": "markdown",
      "id": "283601cd",
      "metadata": {
        "id": "283601cd"
      },
      "source": [
        "## 2. Setting up the environment"
      ]
    },
    {
      "cell_type": "markdown",
      "id": "438d6ec4",
      "metadata": {
        "id": "438d6ec4"
      },
      "source": [
        "\n",
        "### Anaconda\n",
        "\n",
        "Anaconda is a free and open-source distribution of Python and R for scientific computing and data science. It comes bundled with a suite of tools and libraries, making it easy for newcomers to get started.\n",
        "\n",
        "**How to Install Anaconda**:\n",
        "1. Visit [Anaconda's official website](https://www.anaconda.com/products/distribution).\n",
        "2. Download the appropriate version for your operating system.\n",
        "3. Follow the installation instructions.\n",
        "\n",
        "### pip\n",
        "\n",
        "pip is the package installer for Python. With pip, you can install and manage additional libraries that aren't part of the Python standard library.\n",
        "\n",
        "**Installing a package with pip**:\n",
        "\\```python\n",
        "pip install package_name\n",
        "\\```\n",
        "\n",
        "### virtualenv\n",
        "\n",
        "Virtualenv is a tool that helps manage multiple Python environments on a single machine. It's particularly useful when different projects have different requirements.\n",
        "\n",
        "**Creating a virtual environment**:\n",
        "\\```python\n",
        "pip install virtualenv\n",
        "virtualenv myenv\n",
        "\\```\n"
      ]
    },
    {
      "cell_type": "markdown",
      "id": "e150673d",
      "metadata": {
        "id": "e150673d"
      },
      "source": [
        "## 3. Basic Python syntax, data types, and control structures"
      ]
    },
    {
      "cell_type": "markdown",
      "id": "4e255f08",
      "metadata": {
        "id": "4e255f08"
      },
      "source": [
        "\n",
        "### Syntax\n",
        "\n",
        "Python uses whitespace (indentation) to define code blocks. This makes the code easy to read.\n",
        "\n",
        "**Example**:\n",
        "\\```python\n",
        "if 5 > 2:\n",
        "    print(\"Five is greater than two!\")\n",
        "\\```\n",
        "\n",
        "### Data Types\n",
        "\n",
        "Python has several built-in data types:\n",
        "* **Integers**: `5`\n",
        "* **Float**: `5.0`\n",
        "* **String**: `\"Hello, World!\"`\n",
        "* **List**: `[1, 2, 3]`\n",
        "* **Dictionary**: `{\"name\": \"John\", \"age\": 30}`\n",
        "\n",
        "### Control Structures\n",
        "\n",
        "Control structures guide the flow of the program.\n",
        "\n",
        "**Examples**:\n",
        "1. **If-Else**:\n",
        "\\```python\n",
        "if a > b:\n",
        "    print(\"a is greater than b\")\n",
        "else:\n",
        "    print(\"b is greater than a\")\n",
        "\\```\n",
        "2. **For Loop**:\n",
        "\\```python\n",
        "for i in range(5):\n",
        "    print(i)\n",
        "\\```\n"
      ]
    },
    {
      "cell_type": "markdown",
      "id": "58817b74",
      "metadata": {
        "id": "58817b74"
      },
      "source": [
        "## Exercises"
      ]
    },
    {
      "cell_type": "markdown",
      "id": "7dc937c1",
      "metadata": {
        "id": "7dc937c1"
      },
      "source": [
        "\n",
        "1. **Installation**: Install Anaconda, pip, and virtualenv on your machine.\n",
        "\n"
      ]
    },
    {
      "cell_type": "markdown",
      "source": [
        "2. **Python Basics**:\n",
        "    * Write a Python program to print your name.\n",
        "    * Create a list of 5 fruits and print them using a for loop.\n"
      ],
      "metadata": {
        "id": "s8eauM5UQHqo"
      },
      "id": "s8eauM5UQHqo"
    },
    {
      "cell_type": "code",
      "source": [],
      "metadata": {
        "id": "ExDJUiKzQGt4"
      },
      "id": "ExDJUiKzQGt4",
      "execution_count": null,
      "outputs": []
    },
    {
      "cell_type": "markdown",
      "source": [
        "3. **Control Structures**: Write a program that takes a number as input and prints if it's even or odd."
      ],
      "metadata": {
        "id": "1NpSPuKrQLNU"
      },
      "id": "1NpSPuKrQLNU"
    },
    {
      "cell_type": "code",
      "source": [],
      "metadata": {
        "id": "KSe67lvLQL9W"
      },
      "id": "KSe67lvLQL9W",
      "execution_count": null,
      "outputs": []
    }
  ],
  "metadata": {
    "colab": {
      "provenance": []
    }
  },
  "nbformat": 4,
  "nbformat_minor": 5
}