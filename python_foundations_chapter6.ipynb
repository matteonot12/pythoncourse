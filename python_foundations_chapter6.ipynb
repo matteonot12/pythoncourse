{
 "cells": [
  {
   "cell_type": "markdown",
   "id": "d3a86f2b",
   "metadata": {},
   "source": [
    "# Chapter 6: Introduction to Databases and Python"
   ]
  },
  {
   "cell_type": "markdown",
   "id": "1fbb50d8",
   "metadata": {},
   "source": [
    "## 1. Relational databases and SQL"
   ]
  },
  {
   "cell_type": "markdown",
   "id": "f552ef2b",
   "metadata": {},
   "source": [
    "Relational databases are databases that use a structure that allows users to identify and access data in relation to other pieces of data in the database. SQL (Structured Query Language) is the standard language for dealing with relational databases."
   ]
  },
  {
   "cell_type": "markdown",
   "id": "6ef80c7d",
   "metadata": {},
   "source": [
    "### Example: SQL Query"
   ]
  },
  {
   "cell_type": "code",
   "execution_count": null,
   "id": "058df130",
   "metadata": {},
   "outputs": [],
   "source": [
    "# Note: This cell won't be executed here, but this is an example SQL query.\n",
    "\n",
    "# SELECT first_name, last_name FROM employees WHERE age > 30"
   ]
  },
  {
   "cell_type": "markdown",
   "id": "949cd29f",
   "metadata": {},
   "source": [
    "### Exercise: Write an SQL Query"
   ]
  },
  {
   "cell_type": "markdown",
   "id": "d65afa0a",
   "metadata": {},
   "source": [
    "Write an SQL query to fetch all the records from the `students` table where the `grade` is 'A'."
   ]
  },
  {
   "cell_type": "markdown",
   "id": "f28d6d97",
   "metadata": {},
   "source": [
    "## 2. Connecting Python with databases"
   ]
  },
  {
   "cell_type": "markdown",
   "id": "5ff2b513",
   "metadata": {},
   "source": [
    "Python provides various libraries to connect to databases. The `sqlite3` library, for example, is used to work with SQLite databases."
   ]
  },
  {
   "cell_type": "markdown",
   "id": "b5e0ae16",
   "metadata": {},
   "source": [
    "### Example: Connecting to SQLite Database and Fetching Data"
   ]
  },
  {
   "cell_type": "code",
   "execution_count": null,
   "id": "fb52e9fc",
   "metadata": {},
   "outputs": [],
   "source": [
    "# Note: This code won't be executed here, but it shows how to connect to an SQLite database.\n",
    "\n",
    "# import sqlite3\n",
    "\n",
    "# conn = sqlite3.connect('example.db')\n",
    "# cursor = conn.cursor()\n",
    "# cursor.execute('SELECT * FROM students')\n",
    "# records = cursor.fetchall()\n",
    "# conn.close()"
   ]
  },
  {
   "cell_type": "markdown",
   "id": "5f67d044",
   "metadata": {},
   "source": [
    "### Exercise: Write Code to Insert a Record"
   ]
  },
  {
   "cell_type": "markdown",
   "id": "0abce85b",
   "metadata": {},
   "source": [
    "Write a Python code snippet using `sqlite3` to insert a new record into the `students` table with the following values: `name`='John', `age`=28, `grade`='B'."
   ]
  },
  {
   "cell_type": "markdown",
   "id": "000abd7a",
   "metadata": {},
   "source": [
    "## 3. NoSQL databases: Basics of MongoDB"
   ]
  },
  {
   "cell_type": "markdown",
   "id": "942c53e9",
   "metadata": {},
   "source": [
    "NoSQL databases are non-relational and can store and process a large amount of unstructured data. MongoDB is a popular NoSQL database."
   ]
  },
  {
   "cell_type": "markdown",
   "id": "95fc40c6",
   "metadata": {},
   "source": [
    "### Example: Connecting to MongoDB and Inserting a Document"
   ]
  },
  {
   "cell_type": "code",
   "execution_count": null,
   "id": "80be57b6",
   "metadata": {},
   "outputs": [],
   "source": [
    "# Note: This code won't be executed here, but it shows how to connect to MongoDB and insert a document.\n",
    "\n",
    "# from pymongo import MongoClient\n",
    "\n",
    "# client = MongoClient('localhost', 27017)\n",
    "# db = client['example_db']\n",
    "# collection = db['students']\n",
    "# collection.insert_one({'name': 'Alice', 'age': 25, 'grade': 'A'})"
   ]
  },
  {
   "cell_type": "markdown",
   "id": "7d20aba3",
   "metadata": {},
   "source": [
    "### Exercise: Write Code to Fetch Documents"
   ]
  },
  {
   "cell_type": "markdown",
   "id": "c524bb29",
   "metadata": {},
   "source": [
    "Write a Python code snippet using `pymongo` to fetch all documents from the `students` collection where the `grade` is 'A'."
   ]
  }
 ],
 "metadata": {},
 "nbformat": 4,
 "nbformat_minor": 5
}
