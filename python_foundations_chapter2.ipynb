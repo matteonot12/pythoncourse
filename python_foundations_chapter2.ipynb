{
  "cells": [
    {
      "cell_type": "markdown",
      "id": "6d6566ec",
      "metadata": {
        "id": "6d6566ec"
      },
      "source": [
        "# Course: Python Foundations with a Glimpse into AI\n",
        "\n",
        "---\n",
        "\n",
        "## Chapter 2: Diving Deeper into Python Basics"
      ]
    },
    {
      "cell_type": "markdown",
      "id": "223d415e",
      "metadata": {
        "id": "223d415e"
      },
      "source": [
        "## Table of Contents\n",
        "\n",
        "1. Advanced Data Structures\n",
        "    - Lists\n",
        "    - Sets\n",
        "    - Dictionaries\n",
        "    - Tuples\n",
        "2. Functions and Modules\n",
        "3. File Handling\n",
        "    - Reading/Writing Data\n",
        "    - Working with Different Formats (CSV, JSON)\n",
        "4. Exercises"
      ]
    },
    {
      "cell_type": "markdown",
      "id": "31f4aac5",
      "metadata": {
        "id": "31f4aac5"
      },
      "source": [
        "## 1. Advanced Data Structures"
      ]
    },
    {
      "cell_type": "code",
      "execution_count": 1,
      "id": "5de9b13e",
      "metadata": {
        "colab": {
          "base_uri": "https://localhost:8080/"
        },
        "id": "5de9b13e",
        "outputId": "7a470d90-bee4-4747-d088-0caacda8959f"
      },
      "outputs": [
        {
          "output_type": "stream",
          "name": "stdout",
          "text": [
            "['apple', 'banana', 'cherry']\n"
          ]
        }
      ],
      "source": [
        "fruits = [\"apple\", \"banana\", \"cherry\"]\n",
        "print(fruits)"
      ]
    },
    {
      "cell_type": "markdown",
      "id": "3589d044",
      "metadata": {
        "id": "3589d044"
      },
      "source": [
        "### 1.2 Sets"
      ]
    },
    {
      "cell_type": "code",
      "execution_count": 2,
      "id": "f413eea7",
      "metadata": {
        "colab": {
          "base_uri": "https://localhost:8080/"
        },
        "id": "f413eea7",
        "outputId": "cfc02ab9-68e4-4254-fb1e-ce3359b9da56"
      },
      "outputs": [
        {
          "output_type": "stream",
          "name": "stdout",
          "text": [
            "{'banana', 'apple', 'cherry'}\n"
          ]
        }
      ],
      "source": [
        "fruits_set = {\"apple\", \"banana\", \"cherry\", \"apple\"}\n",
        "print(fruits_set)"
      ]
    },
    {
      "cell_type": "markdown",
      "id": "e7e89a61",
      "metadata": {
        "id": "e7e89a61"
      },
      "source": [
        "### 1.3 Dictionaries"
      ]
    },
    {
      "cell_type": "code",
      "execution_count": 3,
      "id": "7f2cce09",
      "metadata": {
        "colab": {
          "base_uri": "https://localhost:8080/"
        },
        "id": "7f2cce09",
        "outputId": "f8ed2f82-8916-4b57-d683-9e8cd0191646"
      },
      "outputs": [
        {
          "output_type": "stream",
          "name": "stdout",
          "text": [
            "{'name': 'John', 'age': 30, 'city': 'New York'}\n"
          ]
        }
      ],
      "source": [
        "person = {\n",
        "    \"name\": \"John\",\n",
        "    \"age\": 30,\n",
        "    \"city\": \"New York\"\n",
        "}\n",
        "print(person)"
      ]
    },
    {
      "cell_type": "markdown",
      "id": "82034164",
      "metadata": {
        "id": "82034164"
      },
      "source": [
        "### 1.4 Tuples"
      ]
    },
    {
      "cell_type": "code",
      "execution_count": 4,
      "id": "5795a09d",
      "metadata": {
        "colab": {
          "base_uri": "https://localhost:8080/"
        },
        "id": "5795a09d",
        "outputId": "59896b09-58b2-47aa-f521-e3f5ceec12aa"
      },
      "outputs": [
        {
          "output_type": "stream",
          "name": "stdout",
          "text": [
            "(4, 5)\n"
          ]
        }
      ],
      "source": [
        "coordinates = (4, 5)\n",
        "print(coordinates)"
      ]
    },
    {
      "cell_type": "markdown",
      "id": "8b8760fe",
      "metadata": {
        "id": "8b8760fe"
      },
      "source": [
        "## 2. Functions and Modules"
      ]
    },
    {
      "cell_type": "code",
      "execution_count": 5,
      "id": "320d38ec",
      "metadata": {
        "colab": {
          "base_uri": "https://localhost:8080/"
        },
        "id": "320d38ec",
        "outputId": "d5872510-ee00-4169-dca4-6351561ccad2"
      },
      "outputs": [
        {
          "output_type": "stream",
          "name": "stdout",
          "text": [
            "Hello, Alice!\n"
          ]
        }
      ],
      "source": [
        "def greet(name):\n",
        "    return f\"Hello, {name}!\"\n",
        "\n",
        "print(greet(\"Alice\"))"
      ]
    },
    {
      "cell_type": "code",
      "execution_count": 6,
      "id": "49311fd7",
      "metadata": {
        "colab": {
          "base_uri": "https://localhost:8080/"
        },
        "id": "49311fd7",
        "outputId": "18f5b316-bec7-4420-bb88-a2790edebb7c"
      },
      "outputs": [
        {
          "output_type": "stream",
          "name": "stdout",
          "text": [
            "120\n"
          ]
        }
      ],
      "source": [
        "import math\n",
        "\n",
        "print(math.factorial(5))"
      ]
    },
    {
      "cell_type": "markdown",
      "id": "4f0b9f10",
      "metadata": {
        "id": "4f0b9f10"
      },
      "source": [
        "## 3. File Handling"
      ]
    },
    {
      "cell_type": "code",
      "execution_count": 7,
      "id": "5c664edf",
      "metadata": {
        "id": "5c664edf"
      },
      "outputs": [],
      "source": [
        "with open('example.txt', 'w') as file:\n",
        "    file.write('Hello, World!')"
      ]
    },
    {
      "cell_type": "markdown",
      "id": "db7808b5",
      "metadata": {
        "id": "db7808b5"
      },
      "source": [
        "### 3.2 Working with Different Formats"
      ]
    },
    {
      "cell_type": "code",
      "execution_count": 8,
      "id": "b5544012",
      "metadata": {
        "id": "b5544012"
      },
      "outputs": [],
      "source": [
        "import csv\n",
        "\n",
        "with open(\"example.csv\", mode =\"w\", newline=\"\") as file:\n",
        "    writer = csv.writer(file)\n",
        "    writer.writerow([\"Name\", \"Age\"])\n",
        "    writer.writerow([\"John\", 30])\n",
        "    writer.writerow([\"Doe\", 25])"
      ]
    },
    {
      "cell_type": "code",
      "execution_count": 9,
      "id": "5fcaa530",
      "metadata": {
        "colab": {
          "base_uri": "https://localhost:8080/"
        },
        "id": "5fcaa530",
        "outputId": "1fbd3677-b84a-453e-ce5c-290ce7546f99"
      },
      "outputs": [
        {
          "output_type": "stream",
          "name": "stdout",
          "text": [
            "{\"name\": \"John\", \"age\": 30, \"city\": \"New York\"}\n"
          ]
        }
      ],
      "source": [
        "import json\n",
        "\n",
        "data = {\n",
        "    \"name\": \"John\",\n",
        "    \"age\": 30,\n",
        "    \"city\": \"New York\"\n",
        "}\n",
        "\n",
        "# Convert dictionary to JSON string\n",
        "json_string = json.dumps(data)\n",
        "print(json_string)"
      ]
    },
    {
      "cell_type": "markdown",
      "id": "3a46eb43",
      "metadata": {
        "id": "3a46eb43"
      },
      "source": [
        "## 4. Exercises\n",
        "\n",
        "1. Create a list of numbers and write a function to return the sum of all even numbers from the list.\n"
      ]
    },
    {
      "cell_type": "code",
      "source": [],
      "metadata": {
        "id": "sriMR-fQPtP7"
      },
      "id": "sriMR-fQPtP7",
      "execution_count": null,
      "outputs": []
    },
    {
      "cell_type": "markdown",
      "source": [
        "2. Create a dictionary representing a student (with keys such as \"name\", \"age\", \"grade\", etc.) and print its contents.\n"
      ],
      "metadata": {
        "id": "bT85eqtKPuQz"
      },
      "id": "bT85eqtKPuQz"
    },
    {
      "cell_type": "code",
      "source": [],
      "metadata": {
        "id": "K2gJng58PwwS"
      },
      "id": "K2gJng58PwwS",
      "execution_count": null,
      "outputs": []
    },
    {
      "cell_type": "markdown",
      "source": [
        "3. Write a function that accepts a list of words and returns a dictionary where the keys are the words and the values are the lengths of the corresponding words."
      ],
      "metadata": {
        "id": "8x1R_JW_PyGh"
      },
      "id": "8x1R_JW_PyGh"
    },
    {
      "cell_type": "code",
      "source": [],
      "metadata": {
        "id": "anwB9fGTPxbd"
      },
      "id": "anwB9fGTPxbd",
      "execution_count": null,
      "outputs": []
    },
    {
      "cell_type": "markdown",
      "id": "4e9788c7",
      "metadata": {
        "id": "4e9788c7"
      },
      "source": [
        "*End of Chapter 2*"
      ]
    }
  ],
  "metadata": {
    "colab": {
      "provenance": []
    },
    "language_info": {
      "name": "python"
    },
    "kernelspec": {
      "name": "python3",
      "display_name": "Python 3"
    }
  },
  "nbformat": 4,
  "nbformat_minor": 5
}