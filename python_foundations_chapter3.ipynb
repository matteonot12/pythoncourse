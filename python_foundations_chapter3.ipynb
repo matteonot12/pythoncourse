{
  "cells": [
    {
      "cell_type": "markdown",
      "id": "1e201b72",
      "metadata": {
        "id": "1e201b72"
      },
      "source": [
        "# Chapter 3: Advanced Python Concepts\n",
        "\n",
        "---"
      ]
    },
    {
      "cell_type": "markdown",
      "id": "f2e9ade2",
      "metadata": {
        "id": "f2e9ade2"
      },
      "source": [
        "## Table of Contents\n",
        "\n",
        "1. List Comprehensions, Generators, and Lambda Functions\n",
        "    - List Comprehensions\n",
        "    - Generators\n",
        "    - Lambda Functions\n",
        "2. Exception Handling, Debugging, and Testing\n",
        "    - Exception Handling\n",
        "    - Debugging\n",
        "    - Testing\n",
        "3. Object-Oriented Programming\n",
        "    - Classes\n",
        "    - Inheritance\n",
        "    - Polymorphism"
      ]
    },
    {
      "cell_type": "markdown",
      "id": "4e59fc55",
      "metadata": {
        "id": "4e59fc55"
      },
      "source": [
        "## 1. List Comprehensions, Generators, and Lambda Functions"
      ]
    },
    {
      "cell_type": "markdown",
      "id": "da5d8ca4",
      "metadata": {
        "id": "da5d8ca4"
      },
      "source": [
        "### 1.1 List Comprehensions\n",
        "\n",
        "List comprehensions provide a concise way to create lists. They allow for quick list construction by applying an expression to each item in an existing list or other iterable. The general syntax is: `[expression for item in iterable]`."
      ]
    },
    {
      "cell_type": "markdown",
      "source": [
        "Example: List Comprehensions\n",
        "Suppose we have a list of numbers from 1 to 10 and we want to create a new list containing only the even numbers from the original list.\n",
        "\n",
        "**Using a traditional loop approach:**"
      ],
      "metadata": {
        "id": "5d58nVRpWmzS"
      },
      "id": "5d58nVRpWmzS"
    },
    {
      "cell_type": "code",
      "source": [
        "numbers = list(range(1, 11))\n",
        "even_numbers = []\n",
        "\n",
        "for num in numbers:\n",
        "    if num % 2 == 0:\n",
        "        even_numbers.append(num)\n",
        "\n",
        "print(even_numbers)\n"
      ],
      "metadata": {
        "id": "ey-RLri_WnDG"
      },
      "id": "ey-RLri_WnDG",
      "execution_count": null,
      "outputs": []
    },
    {
      "cell_type": "markdown",
      "source": [
        "**Now, let's achieve the same using a list comprehension:**"
      ],
      "metadata": {
        "id": "bZh5QNg_W2JJ"
      },
      "id": "bZh5QNg_W2JJ"
    },
    {
      "cell_type": "code",
      "source": [
        "numbers = list(range(1, 11))\n",
        "even_numbers = [num for num in numbers if num % 2 == 0]\n",
        "\n",
        "print(even_numbers)\n"
      ],
      "metadata": {
        "id": "Y9CHIZkXXCAZ"
      },
      "id": "Y9CHIZkXXCAZ",
      "execution_count": null,
      "outputs": []
    },
    {
      "cell_type": "markdown",
      "source": [
        "As observed, the list comprehension provides a more concise and readable approach to achieving the same result."
      ],
      "metadata": {
        "id": "rKfEeDURXFYo"
      },
      "id": "rKfEeDURXFYo"
    },
    {
      "cell_type": "markdown",
      "id": "a106962e",
      "metadata": {
        "id": "a106962e"
      },
      "source": [
        "### 1.2 Generators\n",
        "\n",
        "Generators produce items one by one using the `yield` keyword, rather than creating a full list in memory. This makes them more memory-efficient for large datasets. Generators are defined using regular function syntax but return an iterator.\n",
        "\n",
        "Example: Generators\n",
        "Suppose we want to create a generator that yields the Fibonacci sequence up to a certain number n.\n",
        "\n",
        "The Fibonacci sequence starts as: 0, 1, 1, 2, 3, 5, 8, ...\n",
        "\n",
        "Each subsequent number is the sum of the two preceding ones.\n",
        "\n",
        "Using a generator approach:"
      ]
    },
    {
      "cell_type": "code",
      "source": [
        "def fibonacci(n):\n",
        "    a, b = 0, 1\n",
        "    while a <= n:\n",
        "        yield a\n",
        "        a, b = b, a + b\n",
        "\n",
        "# Using the generator to get Fibonacci numbers up to 100\n",
        "for number in fibonacci(100):\n",
        "    print(number)\n"
      ],
      "metadata": {
        "id": "HYRm3vGOYDMs"
      },
      "id": "HYRm3vGOYDMs",
      "execution_count": null,
      "outputs": []
    },
    {
      "cell_type": "markdown",
      "source": [
        "In this example, the fibonacci function is a generator that produces Fibonacci numbers on-the-fly. When you loop over this generator with n=100, it yields Fibonacci numbers up to 100.\n",
        "\n",
        "This generator provides a memory-efficient way to produce the Fibonacci sequence because it doesn't store the entire sequence in memory; instead, it yields one number at a time. You can add this example to your existing notebook to illustrate the concept of generators."
      ],
      "metadata": {
        "id": "Ad6reSJWYRzt"
      },
      "id": "Ad6reSJWYRzt"
    },
    {
      "cell_type": "markdown",
      "id": "25696b48",
      "metadata": {
        "id": "25696b48"
      },
      "source": [
        "### 1.3 Lambda Functions\n",
        "\n",
        "Lambda functions are small, anonymous functions that can have any number of arguments but only one expression. They are useful when you need a quick, throwaway function without the formalities of the full `def` block.\n",
        "\n",
        "**Example: Lambda Functions**\n",
        "Lambda functions, also known as anonymous functions, are useful when you need a simple function for a short period of time and don't want to formally define it using the def keyword.\n",
        "\n",
        "**Scenario:**\n",
        "Imagine we have a list of tuples representing people and their ages:"
      ]
    },
    {
      "cell_type": "code",
      "source": [
        "people = [('Alice', 30), ('Bob', 25), ('Charlie', 35), ('Diana', 28)]\n"
      ],
      "metadata": {
        "id": "8bMMTpvoZBWS"
      },
      "id": "8bMMTpvoZBWS",
      "execution_count": 4,
      "outputs": []
    },
    {
      "cell_type": "markdown",
      "source": [
        "We want to sort this list by age. The built-in sorted() function allows a key argument that takes a function to determine the sort order.\n",
        "\n",
        "Using a traditional function:"
      ],
      "metadata": {
        "id": "8YPREm85ZC5A"
      },
      "id": "8YPREm85ZC5A"
    },
    {
      "cell_type": "code",
      "source": [
        "def get_age(person):\n",
        "    return person[1]\n",
        "\n",
        "sorted_people = sorted(people, key=get_age)\n",
        "print(sorted_people)\n"
      ],
      "metadata": {
        "colab": {
          "base_uri": "https://localhost:8080/"
        },
        "id": "SSsaT-uYZhgU",
        "outputId": "0ca00538-feed-4df2-ee5e-afb74fdb8b04"
      },
      "id": "SSsaT-uYZhgU",
      "execution_count": 5,
      "outputs": [
        {
          "output_type": "stream",
          "name": "stdout",
          "text": [
            "[('Bob', 25), ('Diana', 28), ('Alice', 30), ('Charlie', 35)]\n"
          ]
        }
      ]
    },
    {
      "cell_type": "markdown",
      "source": [
        "Now, let's achieve the same using a lambda function:"
      ],
      "metadata": {
        "id": "zA5vDgrnZjEq"
      },
      "id": "zA5vDgrnZjEq"
    },
    {
      "cell_type": "code",
      "source": [
        "sorted_people = sorted(people, key=lambda person: person[1])\n",
        "print(sorted_people)\n"
      ],
      "metadata": {
        "id": "luRdXGzgZlu5"
      },
      "id": "luRdXGzgZlu5",
      "execution_count": null,
      "outputs": []
    },
    {
      "cell_type": "markdown",
      "source": [
        "In this example, rather than defining a full function get_age to extract the age for the sorting, we use a lambda function to achieve the same result. The lambda function provides a more concise way to define this simple function inline.\n",
        "\n",
        "This example showcases the utility and brevity of lambda functions, especially for simple operations that might be too cumbersome to define with a full function declaration. You can integrate this example into your notebook to illustrate the concept of lambda functions."
      ],
      "metadata": {
        "id": "MqYpyIC4Zrez"
      },
      "id": "MqYpyIC4Zrez"
    },
    {
      "cell_type": "markdown",
      "id": "ccc09203",
      "metadata": {
        "id": "ccc09203"
      },
      "source": [
        "## 2. Exception Handling, Debugging, and Testing"
      ]
    },
    {
      "cell_type": "markdown",
      "id": "bc6681f5",
      "metadata": {
        "id": "bc6681f5"
      },
      "source": [
        "### 2.1 Exception Handling\n",
        "\n",
        "Python uses exceptions to handle errors. With the `try`...`except` structure, you can write code that might raise an exception in the `try` block and handle it in the `except` block, allowing the program to continue or inform the user about the issue.\n",
        "\n",
        "Example: Exception Handling\n",
        "\n",
        "In Python, when an error occurs, an exception is raised. If not handled, the program will crash. Exception handling allows us to manage these errors gracefully and take alternative actions or inform the user about the issue.\n",
        "\n",
        "Scenario:\n",
        "Imagine we have a function that divides two numbers. But division by zero is not allowed in mathematics and will raise an error in Python. We'll use exception handling to manage this situation.\n",
        "\n",
        "Without exception handling:"
      ]
    },
    {
      "cell_type": "code",
      "source": [
        "def divide(a, b):\n",
        "    return a / b\n",
        "\n",
        "print(divide(10, 2))  # This works\n",
        "\n"
      ],
      "metadata": {
        "id": "gFNQOkwXaE2A"
      },
      "id": "gFNQOkwXaE2A",
      "execution_count": null,
      "outputs": []
    },
    {
      "cell_type": "code",
      "source": [
        "print(divide(10, 0))  # This will crash the program"
      ],
      "metadata": {
        "id": "xBc6LRpVaKuL"
      },
      "id": "xBc6LRpVaKuL",
      "execution_count": null,
      "outputs": []
    },
    {
      "cell_type": "markdown",
      "source": [
        "With exception handling:"
      ],
      "metadata": {
        "id": "6oq92gcAaGrG"
      },
      "id": "6oq92gcAaGrG"
    },
    {
      "cell_type": "code",
      "source": [
        "def divide(a, b):\n",
        "    try:\n",
        "        result = a / b\n",
        "        return result\n",
        "    except ZeroDivisionError:\n",
        "        return \"You can't divide by zero!\"\n",
        "\n",
        "print(divide(10, 2))  # Outputs: 5.0\n",
        "print(divide(10, 0))  # Outputs: You can't divide by zero!\n"
      ],
      "metadata": {
        "colab": {
          "base_uri": "https://localhost:8080/"
        },
        "id": "dfkU4a8laRsA",
        "outputId": "5fd2f60e-d4d8-42e2-b6cf-4378445a3610"
      },
      "id": "dfkU4a8laRsA",
      "execution_count": 10,
      "outputs": [
        {
          "output_type": "stream",
          "name": "stdout",
          "text": [
            "5.0\n",
            "You can't divide by zero!\n"
          ]
        }
      ]
    },
    {
      "cell_type": "markdown",
      "source": [
        "In the second example, when we try to divide by zero, instead of crashing the program, the exception is caught, and a user-friendly message is returned.\n",
        "\n",
        "This example demonstrates the importance of exception handling in ensuring that your programs are robust and user-friendly. Unhandled exceptions can lead to unexpected crashes, so it's always good to anticipate potential issues and handle them gracefully."
      ],
      "metadata": {
        "id": "a0P7w-piaT6F"
      },
      "id": "a0P7w-piaT6F"
    },
    {
      "cell_type": "markdown",
      "id": "f6774c9a",
      "metadata": {
        "id": "f6774c9a"
      },
      "source": [
        "### 2.2 Debugging\n",
        "\n",
        "Debugging is the process of identifying and fixing errors in your code. Python's built-in debugger (`pdb`) can help by setting breakpoints and inspecting variable values at runtime.\n",
        "\n",
        "Example: Debugging\n",
        "\n",
        "Debugging is the process of identifying and resolving errors in your code. Python provides a built-in interactive debugger called pdb that allows you to set breakpoints, step through code, inspect variables, and evaluate expressions at runtime.\n",
        "\n",
        "Scenario:\n",
        "Imagine we have a function that is supposed to calculate the factorial of a number. But there's a bug in it, and it's not returning the expected output."
      ]
    },
    {
      "cell_type": "code",
      "source": [
        "def factorial(n):\n",
        "    result = n\n",
        "    while n > 0:\n",
        "        result *= n\n",
        "        n -= 1\n",
        "    return result\n",
        "\n",
        "print(factorial(5))  # This is not returning the expected 120\n"
      ],
      "metadata": {
        "colab": {
          "base_uri": "https://localhost:8080/"
        },
        "id": "Cz5itpOgalTY",
        "outputId": "c07a0f64-fc36-431a-da4e-1e3c0c1ff3cd"
      },
      "id": "Cz5itpOgalTY",
      "execution_count": 11,
      "outputs": [
        {
          "output_type": "stream",
          "name": "stdout",
          "text": [
            "600\n"
          ]
        }
      ]
    },
    {
      "cell_type": "markdown",
      "source": [
        "To debug this, we can use the pdb module."
      ],
      "metadata": {
        "id": "GZejcxVIao3y"
      },
      "id": "GZejcxVIao3y"
    },
    {
      "cell_type": "code",
      "source": [
        "import pdb\n",
        "\n",
        "def factorial(n):\n",
        "    result = n\n",
        "    pdb.set_trace()  # Setting a breakpoint here\n",
        "    while n > 0:\n",
        "        result *= n\n",
        "        n -= 1\n",
        "    return result\n",
        "\n",
        "print(factorial(5))\n"
      ],
      "metadata": {
        "id": "UsFpgdPSaq_1"
      },
      "id": "UsFpgdPSaq_1",
      "execution_count": null,
      "outputs": []
    },
    {
      "cell_type": "markdown",
      "source": [
        "When you run this code, the execution will pause at the pdb.set_trace() line, and you'll be dropped into an interactive debugger session. Here are some useful commands you can use in the debugger:\n",
        "\n",
        "n or next: Continue execution until the next line in the current function is reached.\n",
        "\n",
        "c or continue: Continue execution until the next breakpoint is encountered.\n",
        "\n",
        "q or quit: Exit the debugger and terminate the program.\n",
        "\n",
        "p <variable>: Print the value of the specified variable.\n",
        "\n",
        "By stepping through the code and inspecting variables, you would realize that the initial value of result is set to n, and then it's multiplied by n again in the loop, causing an incorrect result. The fix would be to initialize result to 1.\n",
        "\n",
        "Debugging is a crucial skill for every developer. When faced with unexpected behavior in your code, tools like pdb can be invaluable in pinpointing and resolving the underlying issues."
      ],
      "metadata": {
        "id": "aoO5WM5Ra55T"
      },
      "id": "aoO5WM5Ra55T"
    },
    {
      "cell_type": "markdown",
      "id": "cc4e7b52",
      "metadata": {
        "id": "cc4e7b52"
      },
      "source": [
        "### 2.3 Testing\n",
        "\n",
        "Testing involves writing separate code to ensure that your application behaves as expected. Python's `unittest` module provides tools to write and run tests, ensuring individual units (like functions) of your code work as intended.\n",
        "\n",
        "Example: Testing\n",
        "\n",
        "Testing is the process of running your code to ensure it behaves as expected. Automated tests can be repeatedly run to ensure that, as you make changes to your code, you don't introduce new errors. Python's unittest module provides tools to write and run tests.\n",
        "\n",
        "Scenario:\n",
        "Suppose we have a simple function that determines if a given string is a palindrome (a string that reads the same forward and backward):"
      ]
    },
    {
      "cell_type": "code",
      "source": [
        "def is_palindrome(s):\n",
        "    return s == s[::-1]\n"
      ],
      "metadata": {
        "id": "PqLwjtvobQLZ"
      },
      "id": "PqLwjtvobQLZ",
      "execution_count": 14,
      "outputs": []
    },
    {
      "cell_type": "markdown",
      "source": [
        "To ensure that this function works correctly, we can write tests for it."
      ],
      "metadata": {
        "id": "McX9RJzVbR8d"
      },
      "id": "McX9RJzVbR8d"
    },
    {
      "cell_type": "code",
      "source": [
        "import unittest\n",
        "\n",
        "class TestPalindrome(unittest.TestCase):\n",
        "\n",
        "    def test_palindrome(self):\n",
        "        self.assertTrue(is_palindrome(\"radar\"))\n",
        "        self.assertTrue(is_palindrome(\"level\"))\n",
        "        self.assertFalse(is_palindrome(\"python\"))\n",
        "\n",
        "    def test_empty_string(self):\n",
        "        self.assertTrue(is_palindrome(\"\"))\n",
        "\n",
        "    def test_mixed_case(self):\n",
        "        self.assertTrue(is_palindrome(\"Radar\"))\n",
        "        self.assertTrue(is_palindrome(\"LeVeL\"))\n"
      ],
      "metadata": {
        "id": "G-cXcBFnbT4Y"
      },
      "id": "G-cXcBFnbT4Y",
      "execution_count": 15,
      "outputs": []
    },
    {
      "cell_type": "markdown",
      "source": [
        "Here's a breakdown of what's happening:\n",
        "\n",
        "We're using the unittest framework to define test cases.\n",
        "\n",
        "TestPalindrome is a test case class that inherits from unittest.TestCase.\n",
        "\n",
        "Inside this class, we've defined three tests:\n",
        "\n",
        "test_palindrome: Tests the basic functionality.\n",
        "\n",
        "test_empty_string: Tests the edge case of an empty string.\n",
        "\n",
        "test_mixed_case: Tests if the function can handle strings with mixed case.\n",
        "\n",
        "To run the tests, you'd typically use:"
      ],
      "metadata": {
        "id": "IruLWPw-bVrk"
      },
      "id": "IruLWPw-bVrk"
    },
    {
      "cell_type": "code",
      "source": [
        "if __name__ == \"__main__\":\n",
        "    unittest.main()\n"
      ],
      "metadata": {
        "id": "430n6QUUbmm1"
      },
      "id": "430n6QUUbmm1",
      "execution_count": null,
      "outputs": []
    },
    {
      "cell_type": "markdown",
      "source": [
        "If all tests pass, no output (or a message indicating all tests passed) is shown. If a test fails, unittest will show which test failed and the nature of the failure.\n",
        "\n",
        "Writing tests helps ensure the robustness of your code. It allows you to make changes with confidence, knowing that if something breaks, your tests will catch it. Proper testing is a fundamental component of professional software development."
      ],
      "metadata": {
        "id": "ZyMW4pAeb8LN"
      },
      "id": "ZyMW4pAeb8LN"
    },
    {
      "cell_type": "markdown",
      "id": "8504f8e6",
      "metadata": {
        "id": "8504f8e6"
      },
      "source": [
        "## 3. Object-Oriented Programming"
      ]
    },
    {
      "cell_type": "markdown",
      "id": "baa4350e",
      "metadata": {
        "id": "baa4350e"
      },
      "source": [
        "### 3.1 Classes\n",
        "\n",
        "Classes provide a blueprint for creating objects, which are instances of classes. They encapsulate data for the object and methods to manipulate that data.\n",
        "\n",
        "Example: Classes\n",
        "\n",
        "In object-oriented programming, a class is a blueprint for creating objects. Objects have member variables and functions associated with them. In Python, a class is created by the keyword class.\n",
        "\n",
        "Scenario:\n",
        "Imagine we want to represent a simple bank account. The account will have a balance and methods to deposit and withdraw money."
      ]
    },
    {
      "cell_type": "code",
      "source": [
        "class BankAccount:\n",
        "    def __init__(self, balance=0):\n",
        "        self.balance = balance\n",
        "\n",
        "    def deposit(self, amount):\n",
        "        self.balance += amount\n",
        "        return self.balance\n",
        "\n",
        "    def withdraw(self, amount):\n",
        "        if amount > self.balance:\n",
        "            print(\"Insufficient funds!\")\n",
        "            return None\n",
        "        self.balance -= amount\n",
        "        return self.balance\n",
        "\n",
        "    def get_balance(self):\n",
        "        return self.balance\n"
      ],
      "metadata": {
        "id": "hh1RWp7OcGky"
      },
      "id": "hh1RWp7OcGky",
      "execution_count": 17,
      "outputs": []
    },
    {
      "cell_type": "markdown",
      "source": [
        "Here's a breakdown:\n",
        "\n",
        "BankAccount is our class.\n",
        "\n",
        "The __init__ method is a special method called a constructor. It's run when an object is instantiated. Here, it initializes the balance.\n",
        "\n",
        "deposit: This method adds the provided amount to the balance.\n",
        "\n",
        "withdraw: This method subtracts the provided amount from the balance, but first checks if there's enough balance.\n",
        "\n",
        "get_balance: Simply returns the current balance.\n",
        "\n",
        "\n",
        "Usage:"
      ],
      "metadata": {
        "id": "Ku9W32aGcIgd"
      },
      "id": "Ku9W32aGcIgd"
    },
    {
      "cell_type": "code",
      "source": [
        "# Create an account with an initial balance of $100\n",
        "account = BankAccount(100)\n",
        "\n",
        "# Deposit $50\n",
        "account.deposit(50)  # Balance is now $150\n",
        "\n",
        "# Withdraw $30\n",
        "account.withdraw(30)  # Balance is now $120\n",
        "\n",
        "# Check balance\n",
        "print(account.get_balance())  # Outputs: 120\n"
      ],
      "metadata": {
        "id": "OA8dngxAcT7T"
      },
      "id": "OA8dngxAcT7T",
      "execution_count": null,
      "outputs": []
    },
    {
      "cell_type": "markdown",
      "source": [
        "This example demonstrates the core concept of classes in Python: encapsulating data (attributes) and functions (methods) into a single entity. Classes allow for a higher level of organization and abstraction in your code."
      ],
      "metadata": {
        "id": "OxS2qvZCccBx"
      },
      "id": "OxS2qvZCccBx"
    },
    {
      "cell_type": "markdown",
      "id": "490a4aea",
      "metadata": {
        "id": "490a4aea"
      },
      "source": [
        "### 3.2 Inheritance\n",
        "\n",
        "Inheritance allows a class to inherit attributes and methods from another class. This promotes code reusability and establishes a relationship between the parent (superclass) and child (subclass) classes.\n",
        "\n",
        "Example: Inheritance\n",
        "\n",
        "Inheritance is a fundamental concept in object-oriented programming where a class (the child or subclass) inherits attributes and behaviors from another class (the parent or superclass). This promotes code reusability and establishes a relationship between the parent and child classes.\n",
        "\n",
        "Scenario:\n",
        "Building on our previous example, suppose we want to introduce a special type of bank account that earns interest, called a SavingsAccount. Instead of building it from scratch, we can inherit from the BankAccount class and add only the additional features."
      ]
    },
    {
      "cell_type": "code",
      "source": [
        "class SavingsAccount(BankAccount):\n",
        "    interest_rate = 0.05  # 5% annual interest rate\n",
        "\n",
        "    def __init__(self, balance=0):\n",
        "        super().__init__(balance)\n",
        "\n",
        "    def add_interest(self):\n",
        "        interest = self.balance * self.interest_rate\n",
        "        self.balance += interest\n",
        "        return self.balance\n"
      ],
      "metadata": {
        "id": "d3MViTXRdECC"
      },
      "id": "d3MViTXRdECC",
      "execution_count": 24,
      "outputs": []
    },
    {
      "cell_type": "markdown",
      "source": [
        "Here's the breakdown:\n",
        "\n",
        "SavingsAccount is our subclass, and it inherits from BankAccount, the superclass.\n",
        "\n",
        "We've introduced a class variable interest_rate to represent the annual interest rate.\n",
        "\n",
        "The __init__ method calls the constructor of the superclass using super().__init__(balance).\n",
        "\n",
        "add_interest: This method calculates and adds the interest to the balance.\n",
        "\n",
        "\n",
        "Usage:"
      ],
      "metadata": {
        "id": "k6UqxdP8dFdU"
      },
      "id": "k6UqxdP8dFdU"
    },
    {
      "cell_type": "code",
      "source": [
        "# Create a savings account with an initial balance of $1000\n",
        "savings = SavingsAccount(1000)\n",
        "\n",
        "# Add interest\n",
        "savings.add_interest()  # Balance is now $1050 due to 5% interest\n",
        "\n",
        "# Use methods inherited from BankAccount\n",
        "savings.deposit(200)  # Balance is now $1250\n",
        "savings.withdraw(50)  # Balance is now $1200\n",
        "\n",
        "# Check balance\n",
        "print(savings.get_balance())  # Outputs: 1200\n"
      ],
      "metadata": {
        "colab": {
          "base_uri": "https://localhost:8080/"
        },
        "id": "1B7zaLxMdhvC",
        "outputId": "6e29d20b-29fb-499e-e6f4-1113187677c4"
      },
      "id": "1B7zaLxMdhvC",
      "execution_count": 25,
      "outputs": [
        {
          "output_type": "stream",
          "name": "stdout",
          "text": [
            "1200.0\n"
          ]
        }
      ]
    },
    {
      "cell_type": "markdown",
      "source": [
        "This example showcases how inheritance allows for extending the functionalities of an existing class without modifying it. The SavingsAccount class inherits all the attributes and methods of BankAccount and introduces its own additional method, add_interest()."
      ],
      "metadata": {
        "id": "mm6nd2jNdijI"
      },
      "id": "mm6nd2jNdijI"
    },
    {
      "cell_type": "markdown",
      "id": "8fd7f321",
      "metadata": {
        "id": "8fd7f321"
      },
      "source": [
        "### 3.3 Polymorphism\n",
        "\n",
        "Polymorphism allows objects of different classes to be treated as objects of a common superclass. It's the ability to redefine methods in derived classes.\n",
        "\n",
        "Example: Polymorphism\n",
        "\n",
        "Polymorphism, a core concept in object-oriented programming, refers to the ability of different classes to be treated as instances of the same class through inheritance. More specifically, it's the ability of different objects to respond in a unique way to the same method call.\n",
        "\n",
        "Scenario:\n",
        "Let's consider a zoo scenario where we have different animals. Each animal makes a unique sound, but all of them are still animals. We can use polymorphism to represent this behavior."
      ]
    },
    {
      "cell_type": "code",
      "source": [
        "class Animal:\n",
        "    def sound(self):\n",
        "        return \"Some generic sound\"\n",
        "\n",
        "class Dog(Animal):\n",
        "    def sound(self):\n",
        "        return \"Woof!\"\n",
        "\n",
        "class Cat(Animal):\n",
        "    def sound(self):\n",
        "        return \"Meow!\"\n",
        "\n",
        "class Bird(Animal):\n",
        "    def sound(self):\n",
        "        return \"Chirp!\"\n"
      ],
      "metadata": {
        "id": "1tvj0ggGd9yh"
      },
      "id": "1tvj0ggGd9yh",
      "execution_count": 26,
      "outputs": []
    },
    {
      "cell_type": "markdown",
      "source": [
        "In this setup:\n",
        "\n",
        "Animal is the parent class with a method sound().\n",
        "\n",
        "Dog, Cat, and Bird are subclasses that inherit from Animal and override the sound() method to give their own unique sounds."
      ],
      "metadata": {
        "id": "yKuzLw4deFWy"
      },
      "id": "yKuzLw4deFWy"
    },
    {
      "cell_type": "code",
      "source": [
        "animals = [Dog(), Cat(), Bird()]\n",
        "\n",
        "for animal in animals:\n",
        "    print(animal.sound())\n"
      ],
      "metadata": {
        "id": "AB1jNsq_eJvU"
      },
      "id": "AB1jNsq_eJvU",
      "execution_count": null,
      "outputs": []
    },
    {
      "cell_type": "markdown",
      "source": [
        "Even though each animal in the list is of a different class, we can iterate over the list and call the sound() method on each one. This is polymorphism in action: different classes being treated as if they were objects of the same class and responding differently to the same method call.\n",
        "\n",
        "This example demonstrates how polymorphism allows for a unified interface while allowing for specific implementations in child classes. It promotes flexibility and scalability in the code design.\n",
        "\n",
        "\n",
        "\n",
        "\n",
        "\n"
      ],
      "metadata": {
        "id": "kjVIiTVxeKUi"
      },
      "id": "kjVIiTVxeKUi"
    },
    {
      "cell_type": "markdown",
      "id": "253e9d1a",
      "metadata": {
        "id": "253e9d1a"
      },
      "source": [
        "*End of Chapter 3 Guide*"
      ]
    }
  ],
  "metadata": {
    "colab": {
      "provenance": []
    },
    "language_info": {
      "name": "python"
    },
    "kernelspec": {
      "name": "python3",
      "display_name": "Python 3"
    }
  },
  "nbformat": 4,
  "nbformat_minor": 5
}