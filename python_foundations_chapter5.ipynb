{
 "cells": [
  {
   "cell_type": "markdown",
   "id": "7e14dd29",
   "metadata": {},
   "source": [
    "# Chapter 5: Effective Programming Practices\n",
    "\n",
    "---"
   ]
  },
  {
   "cell_type": "markdown",
   "id": "03a753ea",
   "metadata": {},
   "source": [
    "## 1. Code readability and PEP 8 standards"
   ]
  },
  {
   "cell_type": "markdown",
   "id": "35c86644",
   "metadata": {},
   "source": [
    "PEP 8 is Python's style guide. It's a set of conventions for writing readable Python code. Following PEP 8 ensures that your code is consistent with the majority of Python code, making it easier for others to read."
   ]
  },
  {
   "cell_type": "markdown",
   "id": "63129b7b",
   "metadata": {},
   "source": [
    "### Example: Some common PEP 8 guidelines"
   ]
  },
  {
   "cell_type": "code",
   "execution_count": null,
   "id": "a2393f6d",
   "metadata": {},
   "outputs": [],
   "source": [
    "# Bad style\n",
    "\n",
    "list=[ 1,2,3,4 ]\n",
    "def funky_func(x,y):\n",
    "  return x+y\n",
    "\n",
    "# Good style\n",
    "\n",
    "my_list = [1, 2, 3, 4]\n",
    "\n",
    "def standard_function(x, y):\n",
    "    return x + y"
   ]
  },
  {
   "cell_type": "markdown",
   "id": "ee5fa654",
   "metadata": {},
   "source": [
    "### Exercise: Refactor the Code"
   ]
  },
  {
   "cell_type": "markdown",
   "id": "6c181065",
   "metadata": {},
   "source": [
    "Given the following code snippet, refactor it according to PEP 8 standards:\n",
    "\n",
    "```\n",
    "def FUNC(x,y ):x+y\n",
    "L =[1,2, 3]\n",
    "```\n",
    "\n",
    "Provide the refactored code below."
   ]
  },
  {
   "cell_type": "markdown",
   "id": "7b2f09c7",
   "metadata": {},
   "source": [
    "## 2. Version control with Git and collaborative coding with GitHub"
   ]
  },
  {
   "cell_type": "markdown",
   "id": "ee144cfb",
   "metadata": {},
   "source": [
    "Version control systems, like Git, track changes to a file or set of files over time. GitHub is a platform that uses Git for version control and provides a space for collaborative code development."
   ]
  },
  {
   "cell_type": "markdown",
   "id": "f7a38d02",
   "metadata": {},
   "source": [
    "### Example: Basic Git Commands"
   ]
  },
  {
   "cell_type": "code",
   "execution_count": null,
   "id": "dd3d92f5",
   "metadata": {},
   "outputs": [],
   "source": [
    "# Note: This cell won't be executed here, but these are basic Git commands.\n",
    "\n",
    "# Initialize a new Git repository\n",
    "# !git init\n",
    "\n",
    "# Check the status of changes\n",
    "# !git status\n",
    "\n",
    "# Add changes to staging\n",
    "# !git add .\n",
    "\n",
    "# Commit changes\n",
    "# !git commit -m 'Initial commit'"
   ]
  },
  {
   "cell_type": "markdown",
   "id": "c0bb7418",
   "metadata": {},
   "source": [
    "### Exercise: Git Operations"
   ]
  },
  {
   "cell_type": "markdown",
   "id": "eceff984",
   "metadata": {},
   "source": [
    "List down the sequence of Git commands you would use to:\n",
    "\n",
    "1. Initialize a new Git repository.\n",
    "2. Add all changes to staging.\n",
    "3. Commit the changes with a message 'Updated README'.\n",
    "4. Push the changes to the remote repository on GitHub."
   ]
  },
  {
   "cell_type": "markdown",
   "id": "f94216f2",
   "metadata": {},
   "source": [
    "## 3. Virtual environments and package management"
   ]
  },
  {
   "cell_type": "markdown",
   "id": "cb9795f8",
   "metadata": {},
   "source": [
    "Virtual environments are isolated environments where you can install packages without affecting the system Python or other projects. It's a best practice to use virtual environments for Python projects to avoid conflicts between package versions."
   ]
  },
  {
   "cell_type": "markdown",
   "id": "ff83b2a5",
   "metadata": {},
   "source": [
    "### Example: Creating a Virtual Environment"
   ]
  },
  {
   "cell_type": "code",
   "execution_count": null,
   "id": "339d5f76",
   "metadata": {},
   "outputs": [],
   "source": [
    "# Note: This cell won't be executed here, but these are steps to create a virtual environment.\n",
    "\n",
    "# Create a virtual environment named 'myenv'\n",
    "# !python -m venv myenv\n",
    "\n",
    "# Activate the virtual environment\n",
    "# On Windows: !myenv\\Scripts\\activate\n",
    "# On macOS and Linux: !source myenv/bin/activate"
   ]
  },
  {
   "cell_type": "markdown",
   "id": "6c1ecbaf",
   "metadata": {},
   "source": [
    "### Exercise: Package Installation"
   ]
  },
  {
   "cell_type": "markdown",
   "id": "44762435",
   "metadata": {},
   "source": [
    "Assuming you're inside an activated virtual environment, write down the command you'd use to install the `numpy` package."
   ]
  }
 ],
 "metadata": {},
 "nbformat": 4,
 "nbformat_minor": 5
}
